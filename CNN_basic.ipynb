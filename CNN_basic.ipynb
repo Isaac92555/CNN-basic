{
  "nbformat": 4,
  "nbformat_minor": 0,
  "metadata": {
    "kernelspec": {
      "display_name": "Python 3",
      "language": "python",
      "name": "python3"
    },
    "language_info": {
      "codemirror_mode": {
        "name": "ipython",
        "version": 3
      },
      "file_extension": ".py",
      "mimetype": "text/x-python",
      "name": "python",
      "nbconvert_exporter": "python",
      "pygments_lexer": "ipython3",
      "version": "3.8.10"
    },
    "colab": {
      "name": "CNN basic.ipynb",
      "provenance": [],
      "collapsed_sections": [],
      "include_colab_link": true
    },
    "accelerator": "GPU"
  },
  "cells": [
    {
      "cell_type": "markdown",
      "metadata": {
        "id": "view-in-github",
        "colab_type": "text"
      },
      "source": [
        "<a href=\"https://colab.research.google.com/github/Isaac92555/CNN-basic/blob/main/CNN_basic.ipynb\" target=\"_parent\"><img src=\"https://colab.research.google.com/assets/colab-badge.svg\" alt=\"Open In Colab\"/></a>"
      ]
    },
    {
      "cell_type": "markdown",
      "metadata": {
        "id": "gGr4OuLjUa0C"
      },
      "source": [
        "Please mount your Google drive, and set up your working folder path here."
      ]
    },
    {
      "cell_type": "code",
      "metadata": {
        "id": "vgLRBWTyrWuy",
        "colab": {
          "base_uri": "https://localhost:8080/"
        },
        "outputId": "004ec6b6-45ff-4c02-f8e0-63ac192f6ca8"
      },
      "source": [
        "from google.colab import drive\n",
        "drive.mount('/content/drive')"
      ],
      "execution_count": null,
      "outputs": [
        {
          "output_type": "stream",
          "name": "stdout",
          "text": [
            "Drive already mounted at /content/drive; to attempt to forcibly remount, call drive.mount(\"/content/drive\", force_remount=True).\n"
          ]
        }
      ]
    },
    {
      "cell_type": "code",
      "metadata": {
        "id": "MWxDp2p5z1N6"
      },
      "source": [
        "import os\n",
        "# start your code here\n",
        "os.chdir(\"/content/drive/MyDrive/Deep Learning/Homework9\") # change your working folder here\n",
        "# end your code here"
      ],
      "execution_count": null,
      "outputs": []
    },
    {
      "cell_type": "markdown",
      "metadata": {
        "id": "gtCT9YhKzJGk"
      },
      "source": [
        "# Convolutional Neural Networks: Gesture Classification\n",
        "\n",
        "Welcome to our thrid module! In this notebook, you will:\n",
        "\n",
        "- Implement a fully functioning ConvNet using TensorFlow \n",
        "\n",
        "**After this assignment you will be able to:**\n",
        "\n",
        "- Build and train a ConvNet in TensorFlow for a classification problem \n",
        "\n",
        "We assume here that you are already familiar with TensorFlow. "
      ]
    },
    {
      "cell_type": "markdown",
      "metadata": {
        "id": "3eikfPvXzJGn"
      },
      "source": [
        "## 1.0 - TensorFlow model\n",
        "\n",
        "As usual, we will start by loading in the packages. \n"
      ]
    },
    {
      "cell_type": "code",
      "metadata": {
        "id": "HZKX0DrOzJGo"
      },
      "source": [
        "import math\n",
        "import numpy as np\n",
        "import h5py\n",
        "import matplotlib.pyplot as plt\n",
        "import scipy\n",
        "from PIL import Image\n",
        "import tensorflow as tf\n",
        "from tensorflow.python.framework import ops\n",
        "from tensorflow.keras import datasets, layers, models\n",
        "from cnn_utils import *\n",
        "\n",
        "%matplotlib inline\n",
        "np.random.seed(1)\n",
        "tf.random.set_seed(1234)"
      ],
      "execution_count": null,
      "outputs": []
    },
    {
      "cell_type": "markdown",
      "metadata": {
        "id": "-mH0FbyVzJGo"
      },
      "source": [
        "Run the next cell to load the \"SIGNS\" dataset you are going to use."
      ]
    },
    {
      "cell_type": "code",
      "metadata": {
        "id": "7FaF-i0nzJGp"
      },
      "source": [
        "# Loading the data (signs)\n",
        "X_train_orig, Y_train_orig, X_test_orig, Y_test_orig, classes = load_dataset()"
      ],
      "execution_count": null,
      "outputs": []
    },
    {
      "cell_type": "markdown",
      "metadata": {
        "id": "6b_2DdXRzJGp"
      },
      "source": [
        "As a reminder, the SIGNS dataset is a collection of 6 signs representing numbers from 0 to 5.\n",
        "\n",
        "![alt text](https://drive.google.com/uc?id=1db9mIM_lD4StTKhab9nfLfdCSLjXG3Cf)\n",
        "The next cell will show you an example of a labelled image in the dataset. Feel free to change the value of `index` below and re-run to see different examples. "
      ]
    },
    {
      "cell_type": "code",
      "metadata": {
        "colab": {
          "base_uri": "https://localhost:8080/",
          "height": 285
        },
        "id": "SkLqPXQDzJGp",
        "outputId": "96b19183-0e08-4671-db5f-846f80ae7717"
      },
      "source": [
        "# Example of a picture\n",
        "index = 1000\n",
        "plt.imshow(X_train_orig[index])\n",
        "print (\"y = \" + str(np.squeeze(Y_train_orig[:, index])))"
      ],
      "execution_count": null,
      "outputs": [
        {
          "output_type": "stream",
          "name": "stdout",
          "text": [
            "y = 2\n"
          ]
        },
        {
          "output_type": "display_data",
          "data": {
            "text/plain": [
              "<Figure size 432x288 with 1 Axes>"
            ],
            "image/png": "[encoded data removed]"
          },
          "metadata": {
            "needs_background": "light"
          }
        }
      ]
    },
    {
      "cell_type": "markdown",
      "metadata": {
        "id": "tZgKdERozJGq"
      },
      "source": [
        "To get started, let's examine the shapes of your data. "
      ]
    },
    {
      "cell_type": "code",
      "metadata": {
        "colab": {
          "base_uri": "https://localhost:8080/"
        },
        "id": "c-4uG22tzJGr",
        "outputId": "df79e596-5cba-4d93-c9d6-74e1e556af9d"
      },
      "source": [
        "# what do the following two lines do?\n",
        "X_train = X_train_orig/255.\n",
        "X_test = X_test_orig/255.\n",
        "\n",
        "# Next, we will convert the value 0,1,2,3,4,5 to a one-hot column. \n",
        "Y_train = convert_to_one_hot(Y_train_orig, 6).T\n",
        "Y_test = convert_to_one_hot(Y_test_orig, 6).T\n",
        "print (\"number of training examples = \" + str(X_train.shape[0]))\n",
        "print (\"number of test examples = \" + str(X_test.shape[0]))\n",
        "print (\"X_train shape: \" + str(X_train.shape))\n",
        "print (\"Y_train shape: \" + str(Y_train.shape))\n",
        "print (\"X_test shape: \" + str(X_test.shape))\n",
        "print (\"Y_test shape: \" + str(Y_test.shape))\n",
        "conv_layers = {}"
      ],
      "execution_count": null,
      "outputs": [
        {
          "output_type": "stream",
          "name": "stdout",
          "text": [
            "number of training examples = 1080\n",
            "number of test examples = 120\n",
            "X_train shape: (1080, 64, 64, 3)\n",
            "Y_train shape: (1080, 6)\n",
            "X_test shape: (120, 64, 64, 3)\n",
            "Y_test shape: (120, 6)\n"
          ]
        }
      ]
    },
    {
      "cell_type": "markdown",
      "metadata": {
        "id": "HtVo2LWdzJGr"
      },
      "source": [
        "### 1.1 - Create the convolutional base\n",
        "\n",
        "In TensorFlow, there are built-in functions that carry out the convolution steps for you.\n",
        "\n",
        "- **tf.keras.models.Sequential()** groups a linear stack of layers into a neural networt model. You can read the full documentation [here](https://www.tensorflow.org/api_docs/python/tf/keras/Sequential)\n",
        "- **tf.keras.layers.Conv2D(filters, kernel_size, strides=(1, 1), padding='valid', activation=None, input_shape=(32, 32, 3), kernel_initializer='glorot_uniform'):** 'filters' specifies the number of filters in this Conv layer. 'kernel_size' indicates the height and the width of the filters, e.g., (3,3) means a 3 by 3 filter. The third input 'strides' represents the strides for the height and the width of the input (n_H_prev, n_W_prev) with default value (1,1). 'padding' can be 'valid'(default) or 'same'. You can choose your activation function in the input 'activation'. You may want to specify your image shape in 'input_shape'. (32,32,3) means this is a 32 by 32 RGB image. 'kernel_initializer' specifies how you want to initialize your filter. You can read the full documentation [here](https://www.tensorflow.org/api_docs/python/tf/keras/layers/Conv2D)\n",
        "- **tf.keras.layers.MaxPooling2D(pool_size=(f, f), strides=(s,s), padding='valid'):** this function uses a window of size (f, f) and strides of size (s, s) to carry out max pooling over each window. You can read the full documentation [here](https://www.tensorflow.org/api_docs/python/tf/keras/layers/MaxPool2D)\n",
        "\n",
        "**Exercise**: \n",
        "\n",
        "Build the following model: `CONV2D -> MAXPOOL -> CONV2D -> MAXPOOL`. You should use the functions above. \n",
        "\n",
        "In detail, we will use the following parameters for all the steps:\n",
        "\n",
        "     - Conv2D: 8 filters with size (4,4), stride 1, padding is \"same\", activation function is 'Relu', input_shape=(64,64,3), filter initializer is 'glorot_uniform'\n",
        "     - Max pool: Use an 8 by 8 filter size and an 8 by 8 stride, padding is \"same\"\n",
        "     - Conv2D: 16 filters with size (2,2), stride 1, padding is \"same\", activation function is 'Relu', filter initializer is 'glorot_uniform', input shape will be decided automatically\n",
        "     - Max pool: Use a 4 by 4 filter size and a 4 by 4 stride, padding is \"same\""
      ]
    },
    {
      "cell_type": "code",
      "metadata": {
        "id": "1l6pEKH4zJGs",
        "colab": {
          "base_uri": "https://localhost:8080/"
        },
        "outputId": "dd124b71-0f01-421f-f5e8-5cc148c44597"
      },
      "source": [
        "# GRADED steps\n",
        "\n",
        "model = models.Sequential()\n",
        "#add a conv layer: 8 filters with size (4,4), stride (1,1), padding is 'same', activation function is 'relu', input_shape=(64,64,3), filter initializer is 'glorot_uniform'\n",
        "model.add(tf.keras.layers.Conv2D(8,\n",
        "                                 (4,4),\n",
        "                                 strides=(1,1), \n",
        "                                 padding='same', activation='relu', \n",
        "                                 input_shape=(64,64,3), \n",
        "                                 kernel_initializer='glorot_uniform',\n",
        "                                 kernel_regularizer=tf.keras.regularizers.L2(0.01)))\n",
        "#add a MAXPOOL layer: window 8x8, sride (8,8), padding 'same'\n",
        "model.add(tf.keras.layers.MaxPooling2D(pool_size=(8,8), strides=(8,8), padding='same'))\n",
        "\n",
        "### START CODE HERE ###\n",
        "#add the second conv layer: 16 filters with size (2,2), stride (1,1), padding is \"same\", activation function is 'relu', filter initializer is 'glorot_uniform', input shape will be decided automatically\n",
        "model.add(tf.keras.layers.Conv2D(16,\n",
        "                                 (2,2),\n",
        "                                 strides=(1,1),\n",
        "                                 padding='same', activation='relu',\n",
        "                                 kernel_initializer='glorot_uniform',\n",
        "                                 kernel_regularizer=tf.keras.regularizers.L2(0.01)))\n",
        "#add the second MAXPOOL layer: window 4x4, stride (4,4), padding 'same'\n",
        "model.add(tf.keras.layers.MaxPooling2D(pool_size=(4,4), strides=(4,4), padding='same'))\n",
        "### END CODE HERE ###\n",
        "\n",
        "model.summary()"
      ],
      "execution_count": null,
      "outputs": [
        {
          "output_type": "stream",
          "name": "stdout",
          "text": [
            "Model: \"sequential_4\"\n",
            "_________________________________________________________________\n",
            " Layer (type)                Output Shape              Param #   \n",
            "=================================================================\n",
            " conv2d_5 (Conv2D)           (None, 64, 64, 8)         392       \n",
            "                                                                 \n",
            " max_pooling2d_8 (MaxPooling  (None, 8, 8, 8)          0         \n",
            " 2D)                                                             \n",
            "                                                                 \n",
            " conv2d_6 (Conv2D)           (None, 8, 8, 16)          528       \n",
            "                                                                 \n",
            " max_pooling2d_9 (MaxPooling  (None, 2, 2, 16)         0         \n",
            " 2D)                                                             \n",
            "                                                                 \n",
            "=================================================================\n",
            "Total params: 920\n",
            "Trainable params: 920\n",
            "Non-trainable params: 0\n",
            "_________________________________________________________________\n"
          ]
        }
      ]
    },
    {
      "cell_type": "markdown",
      "metadata": {
        "id": "nOnPUuP0zJGt"
      },
      "source": [
        "**Expected Output**:\n",
        "\n",
        "![alt text](https://urldefense.com/v3/__https://drive.google.com/uc?id=16G8b6zw23HkPTSmKKboIVqB_ehiDE9BL__;!!PhOWcWs!lj_KcD0A6Xl-_k4Lj8Ll_SLpdbsvdvk2BUHx7Ca3ALRgep71u_2GAgTSv5pO1_y0ZRQV_so$ )"
      ]
    },
    {
      "cell_type": "markdown",
      "metadata": {
        "id": "5960XuFPzJGt"
      },
      "source": [
        "### 1.2 - Add Dense layers on top\n",
        "To complete our model, you will feed the last output tensor from the convolutional base (of shape (4, 4, 64)) into one or more Dense layers to perform classification. There are built-in functions that carry out these steps for you.\n",
        "\n",
        "- **tf.keras.layers.Flatten()**: this function flattens each example into a 1D vector while maintaining the batch-size. It returns a flattened tensor with shape [batch_size, k]. You can read the full documentation [here.](https://www.tensorflow.org/api_docs/python/tf/keras/layers/Flatten)\n",
        "- **tf.keras.layers.Dense(num_outputs):** It returns the output computed using a fully connected layer. You shall specify the number of outputs in 'num_outputs'. You can read the full documentation [here.](https://urldefense.com/v3/__https://www.tensorflow.org/api_docs/python/tf/keras/layers/Dense)\n",
        "In the last function above (`tf.keras.layers.Dense`), the fully connected layer automatically initializes weights in the graph and keeps on training them as you train the model. Hence, you did not need to initialize those weights when initializing the parameters. \n",
        "\n",
        "**Exercise**: \n",
        "\n",
        "Build the fully connected (Dense) layer on the Conv base: `CONV2D -> MAXPOOL -> CONV2D -> MAXPOOL -> FLATTEN -> DENSE`. You should use the functions above. \n",
        "\n",
        "- Flatten the previous output.\n",
        "- FULLYCONNECTED (Dense) layer: Apply a fully connected layer with activation function 'softmax'. Multi-class classification problems usually use 'softmax' as the activation function in the output layer if the target output is a 'one-hot' function."
      ]
    },
    {
      "cell_type": "code",
      "metadata": {
        "id": "_6JwEDs0zJGt",
        "colab": {
          "base_uri": "https://localhost:8080/"
        },
        "outputId": "ab262141-d463-433b-9e8e-795b801eb0ad"
      },
      "source": [
        "# add the FLATTEN layer: tf.keras.layers.Flatten()\n",
        "model.add(tf.keras.layers.Flatten())\n",
        "\n",
        "### START CODE HERE ###\n",
        "# Please add a dense layer with 6 neurons, and activation function 'softmax'\n",
        "model.add(tf.keras.layers.Dense(6, activation='softmax'))\n",
        "### END CODE HERE ###\n",
        "\n",
        "model.summary()"
      ],
      "execution_count": null,
      "outputs": [
        {
          "output_type": "stream",
          "name": "stdout",
          "text": [
            "Model: \"sequential_4\"\n",
            "_________________________________________________________________\n",
            " Layer (type)                Output Shape              Param #   \n",
            "=================================================================\n",
            " conv2d_5 (Conv2D)           (None, 64, 64, 8)         392       \n",
            "                                                                 \n",
            " max_pooling2d_8 (MaxPooling  (None, 8, 8, 8)          0         \n",
            " 2D)                                                             \n",
            "                                                                 \n",
            " conv2d_6 (Conv2D)           (None, 8, 8, 16)          528       \n",
            "                                                                 \n",
            " max_pooling2d_9 (MaxPooling  (None, 2, 2, 16)         0         \n",
            " 2D)                                                             \n",
            "                                                                 \n",
            " flatten_1 (Flatten)         (None, 64)                0         \n",
            "                                                                 \n",
            " dense_1 (Dense)             (None, 6)                 390       \n",
            "                                                                 \n",
            "=================================================================\n",
            "Total params: 1,310\n",
            "Trainable params: 1,310\n",
            "Non-trainable params: 0\n",
            "_________________________________________________________________\n"
          ]
        }
      ]
    },
    {
      "cell_type": "markdown",
      "metadata": {
        "id": "KMjW-h1wzJGu"
      },
      "source": [
        "As you can see, our (2, 2, 16) outputs were flattened into vectors of shape (64) before going through the Dense layer.\n",
        "\n",
        "**Expected Output**:\n",
        "\n",
        "![alt text](https://urldefense.com/v3/__https://drive.google.com/uc?id=15jEv_qKYS0r95tiXQbcuS6PxlBnKcb4R__;!!PhOWcWs!lj_KcD0A6Xl-_k4Lj8Ll_SLpdbsvdvk2BUHx7Ca3ALRgep71u_2GAgTSv5pO1_y0UEdgN_4$ )"
      ]
    },
    {
      "cell_type": "markdown",
      "metadata": {
        "id": "ZfZqriITzJGu"
      },
      "source": [
        "### 1.3 - Compile and train the model\n",
        "When compiling the model, you will specify the optimizer, the loss function, and the metric you are going to use. \n",
        "\n",
        "- **compile(optimizer=None, loss=None, metrics=None)** You can check the full documentation  [here.](https://urldefense.com/v3/__https://www.tensorflow.org/api_docs/python/tf/keras/Model*compile)\n",
        "- **tf.keras.losses.CategoricalCrossentropy()** You can check the full documentation  [here.](https://urldefense.com/v3/__https://www.tensorflow.org/api_docs/python/tf/keras/losses/CategoricalCrossentropy)\n",
        "\n",
        "**Exercise**: Compile the model using 'tf.keras.optimizers.Adam(learning_rate=None)' as the optimizer, 'tf.keras.losses.CategoricalCrossentropy()' as the loss function, and 'accuracy' as the metrics.\n",
        "\n",
        "Now, we are ready to train the model. During the training process, you need to specify training input, training output, epoch number and batch size. The samples will be shuffled by default. \n",
        "\n",
        "-**model.fit(x=None, y=None, batch_size=None, epochs=1,validation_split=0.0)**\n",
        "\n",
        "**Exercise**: train the model with epoch number no more than 400. \n",
        "\n",
        "Please adjust the learning_rate in the adam optimizer and the batch_size in 'model.fit' such that the accuracy of the training set is above 92% at the end of the training.\n"
      ]
    },
    {
      "cell_type": "code",
      "metadata": {
        "id": "7F1KoZMzzJGu",
        "colab": {
          "base_uri": "https://localhost:8080/",
          "height": 3955
        },
        "outputId": "a2a2a353-e076-47fe-c84c-5c08f3a54ed7"
      },
      "source": [
        "# GRADED FUNCTION: compile the model \n",
        "\n",
        "# Compile the model using 'adam' as the optimizer, 'tf.keras.losses.CategoricalCrossentropy()' as the loss function, and 'accuracy' as the metrics.\n",
        "\n",
        "### START CODE HERE ### \n",
        "model.compile(optimizer='adam',\n",
        "          loss=tf.keras.losses.CategoricalCrossentropy(),\n",
        "          metrics='accuracy')\n",
        "### END CODE HERE ###\n",
        "\n",
        "# GRADED FUNCTION: train the model \n",
        "\n",
        "# train the model with batch size = 64, and epoch number = 100.\n",
        "\n",
        "### START CODE HERE ### \n",
        "history = model.fit(x=X_train,\n",
        "                    y=Y_train,\n",
        "                    batch_size=64,\n",
        "                    epochs=100,\n",
        "                    validation_split=0.0)\n",
        "                    ### END CODE HERE ###\n",
        "\n",
        "## plot the training history\n",
        "plt.plot(history.history['loss'], label='loss')\n",
        "plt.plot(history.history['val_loss'], label='val_loss')\n",
        "plt.xlabel('Epoch')\n",
        "plt.ylabel('Loss')\n",
        "#plt.ylim([0.5, 1])\n",
        "plt.legend(loc='lower right')\n",
        "#print('The training accuracy is', history.history['accuracy'][-1])"
      ],
      "execution_count": null,
      "outputs": [
        {
          "output_type": "stream",
          "name": "stdout",
          "text": [
            "Epoch 1/100\n",
            "17/17 [==============================] - 1s 12ms/step - loss: 0.7424 - accuracy: 0.8546\n",
            "Epoch 2/100\n",
            "17/17 [==============================] - 0s 13ms/step - loss: 0.7295 - accuracy: 0.8546\n",
            "Epoch 3/100\n",
            "17/17 [==============================] - 0s 12ms/step - loss: 0.7292 - accuracy: 0.8509\n",
            "Epoch 4/100\n",
            "17/17 [==============================] - 0s 12ms/step - loss: 0.7238 - accuracy: 0.8574\n",
            "Epoch 5/100\n",
            "17/17 [==============================] - 0s 11ms/step - loss: 0.7235 - accuracy: 0.8657\n",
            "Epoch 6/100\n",
            "17/17 [==============================] - 0s 11ms/step - loss: 0.7303 - accuracy: 0.8565\n",
            "Epoch 7/100\n",
            "17/17 [==============================] - 0s 11ms/step - loss: 0.7347 - accuracy: 0.8565\n",
            "Epoch 8/100\n",
            "17/17 [==============================] - 0s 11ms/step - loss: 0.7401 - accuracy: 0.8546\n",
            "Epoch 9/100\n",
            "17/17 [==============================] - 0s 11ms/step - loss: 0.7245 - accuracy: 0.8500\n",
            "Epoch 10/100\n",
            "17/17 [==============================] - 0s 11ms/step - loss: 0.7338 - accuracy: 0.8546\n",
            "Epoch 11/100\n",
            "17/17 [==============================] - 0s 11ms/step - loss: 0.7286 - accuracy: 0.8528\n",
            "Epoch 12/100\n",
            "17/17 [==============================] - 0s 12ms/step - loss: 0.7197 - accuracy: 0.8630\n",
            "Epoch 13/100\n",
            "17/17 [==============================] - 0s 11ms/step - loss: 0.7209 - accuracy: 0.8546\n",
            "Epoch 14/100\n",
            "17/17 [==============================] - 0s 11ms/step - loss: 0.7148 - accuracy: 0.8630\n",
            "Epoch 15/100\n",
            "17/17 [==============================] - 0s 11ms/step - loss: 0.7261 - accuracy: 0.8444\n",
            "Epoch 16/100\n",
            "17/17 [==============================] - 0s 11ms/step - loss: 0.7239 - accuracy: 0.8519\n",
            "Epoch 17/100\n",
            "17/17 [==============================] - 0s 12ms/step - loss: 0.7163 - accuracy: 0.8556\n",
            "Epoch 18/100\n",
            "17/17 [==============================] - 0s 11ms/step - loss: 0.7082 - accuracy: 0.8704\n",
            "Epoch 19/100\n",
            "17/17 [==============================] - 0s 11ms/step - loss: 0.7327 - accuracy: 0.8593\n",
            "Epoch 20/100\n",
            "17/17 [==============================] - 0s 12ms/step - loss: 0.7132 - accuracy: 0.8759\n",
            "Epoch 21/100\n",
            "17/17 [==============================] - 0s 12ms/step - loss: 0.7076 - accuracy: 0.8657\n",
            "Epoch 22/100\n",
            "17/17 [==============================] - 0s 12ms/step - loss: 0.7121 - accuracy: 0.8657\n",
            "Epoch 23/100\n",
            "17/17 [==============================] - 0s 11ms/step - loss: 0.7122 - accuracy: 0.8685\n",
            "Epoch 24/100\n",
            "17/17 [==============================] - 0s 11ms/step - loss: 0.7215 - accuracy: 0.8556\n",
            "Epoch 25/100\n",
            "17/17 [==============================] - 0s 11ms/step - loss: 0.7180 - accuracy: 0.8556\n",
            "Epoch 26/100\n",
            "17/17 [==============================] - 0s 12ms/step - loss: 0.7009 - accuracy: 0.8694\n",
            "Epoch 27/100\n",
            "17/17 [==============================] - 0s 11ms/step - loss: 0.7014 - accuracy: 0.8676\n",
            "Epoch 28/100\n",
            "17/17 [==============================] - 0s 11ms/step - loss: 0.6940 - accuracy: 0.8787\n",
            "Epoch 29/100\n",
            "17/17 [==============================] - 0s 11ms/step - loss: 0.6903 - accuracy: 0.8759\n",
            "Epoch 30/100\n",
            "17/17 [==============================] - 0s 12ms/step - loss: 0.6971 - accuracy: 0.8685\n",
            "Epoch 31/100\n",
            "17/17 [==============================] - 0s 12ms/step - loss: 0.7012 - accuracy: 0.8639\n",
            "Epoch 32/100\n",
            "17/17 [==============================] - 0s 12ms/step - loss: 0.7045 - accuracy: 0.8593\n",
            "Epoch 33/100\n",
            "17/17 [==============================] - 0s 12ms/step - loss: 0.7144 - accuracy: 0.8565\n",
            "Epoch 34/100\n",
            "17/17 [==============================] - 0s 12ms/step - loss: 0.7108 - accuracy: 0.8537\n",
            "Epoch 35/100\n",
            "17/17 [==============================] - 0s 12ms/step - loss: 0.6972 - accuracy: 0.8741\n",
            "Epoch 36/100\n",
            "17/17 [==============================] - 0s 12ms/step - loss: 0.6964 - accuracy: 0.8694\n",
            "Epoch 37/100\n",
            "17/17 [==============================] - 0s 12ms/step - loss: 0.6892 - accuracy: 0.8713\n",
            "Epoch 38/100\n",
            "17/17 [==============================] - 0s 12ms/step - loss: 0.7094 - accuracy: 0.8713\n",
            "Epoch 39/100\n",
            "17/17 [==============================] - 0s 12ms/step - loss: 0.6950 - accuracy: 0.8713\n",
            "Epoch 40/100\n",
            "17/17 [==============================] - 0s 12ms/step - loss: 0.6858 - accuracy: 0.8787\n",
            "Epoch 41/100\n",
            "17/17 [==============================] - 0s 12ms/step - loss: 0.6835 - accuracy: 0.8796\n",
            "Epoch 42/100\n",
            "17/17 [==============================] - 0s 12ms/step - loss: 0.6803 - accuracy: 0.8796\n",
            "Epoch 43/100\n",
            "17/17 [==============================] - 0s 12ms/step - loss: 0.6799 - accuracy: 0.8843\n",
            "Epoch 44/100\n",
            "17/17 [==============================] - 0s 12ms/step - loss: 0.6900 - accuracy: 0.8741\n",
            "Epoch 45/100\n",
            "17/17 [==============================] - 0s 12ms/step - loss: 0.6787 - accuracy: 0.8787\n",
            "Epoch 46/100\n",
            "17/17 [==============================] - 0s 12ms/step - loss: 0.6755 - accuracy: 0.8722\n",
            "Epoch 47/100\n",
            "17/17 [==============================] - 0s 12ms/step - loss: 0.6951 - accuracy: 0.8648\n",
            "Epoch 48/100\n",
            "17/17 [==============================] - 0s 13ms/step - loss: 0.6732 - accuracy: 0.8796\n",
            "Epoch 49/100\n",
            "17/17 [==============================] - 0s 12ms/step - loss: 0.6779 - accuracy: 0.8741\n",
            "Epoch 50/100\n",
            "17/17 [==============================] - 0s 12ms/step - loss: 0.6822 - accuracy: 0.8759\n",
            "Epoch 51/100\n",
            "17/17 [==============================] - 0s 12ms/step - loss: 0.6788 - accuracy: 0.8787\n",
            "Epoch 52/100\n",
            "17/17 [==============================] - 0s 11ms/step - loss: 0.6812 - accuracy: 0.8796\n",
            "Epoch 53/100\n",
            "17/17 [==============================] - 0s 11ms/step - loss: 0.6745 - accuracy: 0.8778\n",
            "Epoch 54/100\n",
            "17/17 [==============================] - 0s 12ms/step - loss: 0.6713 - accuracy: 0.8731\n",
            "Epoch 55/100\n",
            "17/17 [==============================] - 0s 11ms/step - loss: 0.6699 - accuracy: 0.8769\n",
            "Epoch 56/100\n",
            "17/17 [==============================] - 0s 12ms/step - loss: 0.6778 - accuracy: 0.8713\n",
            "Epoch 57/100\n",
            "17/17 [==============================] - 0s 11ms/step - loss: 0.6727 - accuracy: 0.8815\n",
            "Epoch 58/100\n",
            "17/17 [==============================] - 0s 11ms/step - loss: 0.6655 - accuracy: 0.8861\n",
            "Epoch 59/100\n",
            "17/17 [==============================] - 0s 12ms/step - loss: 0.6708 - accuracy: 0.8787\n",
            "Epoch 60/100\n",
            "17/17 [==============================] - 0s 12ms/step - loss: 0.6768 - accuracy: 0.8759\n",
            "Epoch 61/100\n",
            "17/17 [==============================] - 0s 12ms/step - loss: 0.6748 - accuracy: 0.8769\n",
            "Epoch 62/100\n",
            "17/17 [==============================] - 0s 11ms/step - loss: 0.6664 - accuracy: 0.8843\n",
            "Epoch 63/100\n",
            "17/17 [==============================] - 0s 12ms/step - loss: 0.6629 - accuracy: 0.8898\n",
            "Epoch 64/100\n",
            "17/17 [==============================] - 0s 11ms/step - loss: 0.6616 - accuracy: 0.8815\n",
            "Epoch 65/100\n",
            "17/17 [==============================] - 0s 12ms/step - loss: 0.6582 - accuracy: 0.8815\n",
            "Epoch 66/100\n",
            "17/17 [==============================] - 0s 12ms/step - loss: 0.6636 - accuracy: 0.8833\n",
            "Epoch 67/100\n",
            "17/17 [==============================] - 0s 12ms/step - loss: 0.6641 - accuracy: 0.8824\n",
            "Epoch 68/100\n",
            "17/17 [==============================] - 0s 12ms/step - loss: 0.6717 - accuracy: 0.8824\n",
            "Epoch 69/100\n",
            "17/17 [==============================] - 0s 12ms/step - loss: 0.6676 - accuracy: 0.8741\n",
            "Epoch 70/100\n",
            "17/17 [==============================] - 0s 12ms/step - loss: 0.6664 - accuracy: 0.8806\n",
            "Epoch 71/100\n",
            "17/17 [==============================] - 0s 11ms/step - loss: 0.6668 - accuracy: 0.8861\n",
            "Epoch 72/100\n",
            "17/17 [==============================] - 0s 11ms/step - loss: 0.6567 - accuracy: 0.8889\n",
            "Epoch 73/100\n",
            "17/17 [==============================] - 0s 11ms/step - loss: 0.6559 - accuracy: 0.8861\n",
            "Epoch 74/100\n",
            "17/17 [==============================] - 0s 12ms/step - loss: 0.6512 - accuracy: 0.8898\n",
            "Epoch 75/100\n",
            "17/17 [==============================] - 0s 12ms/step - loss: 0.6591 - accuracy: 0.8870\n",
            "Epoch 76/100\n",
            "17/17 [==============================] - 0s 11ms/step - loss: 0.6585 - accuracy: 0.8843\n",
            "Epoch 77/100\n",
            "17/17 [==============================] - 0s 11ms/step - loss: 0.6728 - accuracy: 0.8731\n",
            "Epoch 78/100\n",
            "17/17 [==============================] - 0s 12ms/step - loss: 0.6512 - accuracy: 0.8861\n",
            "Epoch 79/100\n",
            "17/17 [==============================] - 0s 13ms/step - loss: 0.6565 - accuracy: 0.8889\n",
            "Epoch 80/100\n",
            "17/17 [==============================] - 0s 12ms/step - loss: 0.6500 - accuracy: 0.8852\n",
            "Epoch 81/100\n",
            "17/17 [==============================] - 0s 12ms/step - loss: 0.6464 - accuracy: 0.8898\n",
            "Epoch 82/100\n",
            "17/17 [==============================] - 0s 12ms/step - loss: 0.6397 - accuracy: 0.8898\n",
            "Epoch 83/100\n",
            "17/17 [==============================] - 0s 12ms/step - loss: 0.6515 - accuracy: 0.8843\n",
            "Epoch 84/100\n",
            "17/17 [==============================] - 0s 12ms/step - loss: 0.6446 - accuracy: 0.8870\n",
            "Epoch 85/100\n",
            "17/17 [==============================] - 0s 12ms/step - loss: 0.6490 - accuracy: 0.8852\n",
            "Epoch 86/100\n",
            "17/17 [==============================] - 0s 11ms/step - loss: 0.6441 - accuracy: 0.8889\n",
            "Epoch 87/100\n",
            "17/17 [==============================] - 0s 11ms/step - loss: 0.6429 - accuracy: 0.8935\n",
            "Epoch 88/100\n",
            "17/17 [==============================] - 0s 12ms/step - loss: 0.6389 - accuracy: 0.8972\n",
            "Epoch 89/100\n",
            "17/17 [==============================] - 0s 11ms/step - loss: 0.6430 - accuracy: 0.8907\n",
            "Epoch 90/100\n",
            "17/17 [==============================] - 0s 12ms/step - loss: 0.6458 - accuracy: 0.8954\n",
            "Epoch 91/100\n",
            "17/17 [==============================] - 0s 12ms/step - loss: 0.6444 - accuracy: 0.8870\n",
            "Epoch 92/100\n",
            "17/17 [==============================] - 0s 12ms/step - loss: 0.6409 - accuracy: 0.8907\n",
            "Epoch 93/100\n",
            "17/17 [==============================] - 0s 13ms/step - loss: 0.6392 - accuracy: 0.8889\n",
            "Epoch 94/100\n",
            "17/17 [==============================] - 0s 12ms/step - loss: 0.6389 - accuracy: 0.8954\n",
            "Epoch 95/100\n",
            "17/17 [==============================] - 0s 13ms/step - loss: 0.6501 - accuracy: 0.8704\n",
            "Epoch 96/100\n",
            "17/17 [==============================] - 0s 12ms/step - loss: 0.6382 - accuracy: 0.8889\n",
            "Epoch 97/100\n",
            "17/17 [==============================] - 0s 12ms/step - loss: 0.6361 - accuracy: 0.8926\n",
            "Epoch 98/100\n",
            "17/17 [==============================] - 0s 12ms/step - loss: 0.6340 - accuracy: 0.8981\n",
            "Epoch 99/100\n",
            "17/17 [==============================] - 0s 12ms/step - loss: 0.6446 - accuracy: 0.8870\n",
            "Epoch 100/100\n",
            "17/17 [==============================] - 0s 12ms/step - loss: 0.6502 - accuracy: 0.8704\n"
          ]
        },
        {
          "output_type": "error",
          "ename": "KeyError",
          "evalue": "ignored",
          "traceback": [
            "\u001b[0;31m---------------------------------------------------------------------------\u001b[0m",
            "\u001b[0;31mKeyError\u001b[0m                                  Traceback (most recent call last)",
            "\u001b[0;32m<ipython-input-26-e4bfaf2d3d7f>\u001b[0m in \u001b[0;36m<module>\u001b[0;34m()\u001b[0m\n\u001b[1;32m     23\u001b[0m \u001b[0;31m## plot the training history\u001b[0m\u001b[0;34m\u001b[0m\u001b[0;34m\u001b[0m\u001b[0;34m\u001b[0m\u001b[0m\n\u001b[1;32m     24\u001b[0m \u001b[0mplt\u001b[0m\u001b[0;34m.\u001b[0m\u001b[0mplot\u001b[0m\u001b[0;34m(\u001b[0m\u001b[0mhistory\u001b[0m\u001b[0;34m.\u001b[0m\u001b[0mhistory\u001b[0m\u001b[0;34m[\u001b[0m\u001b[0;34m'loss'\u001b[0m\u001b[0;34m]\u001b[0m\u001b[0;34m,\u001b[0m \u001b[0mlabel\u001b[0m\u001b[0;34m=\u001b[0m\u001b[0;34m'loss'\u001b[0m\u001b[0;34m)\u001b[0m\u001b[0;34m\u001b[0m\u001b[0;34m\u001b[0m\u001b[0m\n\u001b[0;32m---> 25\u001b[0;31m \u001b[0mplt\u001b[0m\u001b[0;34m.\u001b[0m\u001b[0mplot\u001b[0m\u001b[0;34m(\u001b[0m\u001b[0mhistory\u001b[0m\u001b[0;34m.\u001b[0m\u001b[0mhistory\u001b[0m\u001b[0;34m[\u001b[0m\u001b[0;34m'val_loss'\u001b[0m\u001b[0;34m]\u001b[0m\u001b[0;34m,\u001b[0m \u001b[0mlabel\u001b[0m\u001b[0;34m=\u001b[0m\u001b[0;34m'val_loss'\u001b[0m\u001b[0;34m)\u001b[0m\u001b[0;34m\u001b[0m\u001b[0;34m\u001b[0m\u001b[0m\n\u001b[0m\u001b[1;32m     26\u001b[0m \u001b[0mplt\u001b[0m\u001b[0;34m.\u001b[0m\u001b[0mxlabel\u001b[0m\u001b[0;34m(\u001b[0m\u001b[0;34m'Epoch'\u001b[0m\u001b[0;34m)\u001b[0m\u001b[0;34m\u001b[0m\u001b[0;34m\u001b[0m\u001b[0m\n\u001b[1;32m     27\u001b[0m \u001b[0mplt\u001b[0m\u001b[0;34m.\u001b[0m\u001b[0mylabel\u001b[0m\u001b[0;34m(\u001b[0m\u001b[0;34m'Loss'\u001b[0m\u001b[0;34m)\u001b[0m\u001b[0;34m\u001b[0m\u001b[0;34m\u001b[0m\u001b[0m\n",
            "\u001b[0;31mKeyError\u001b[0m: 'val_loss'"
          ]
        },
        {
          "output_type": "display_data",
          "data": {
            "text/plain": [
              "<Figure size 432x288 with 1 Axes>"
            ],
            "image/png": "[encoded data removed]"
          },
          "metadata": {
            "needs_background": "light"
          }
        }
      ]
    },
    {
      "cell_type": "code",
      "metadata": {
        "id": "Jx0k1xiMzJGv",
        "colab": {
          "base_uri": "https://localhost:8080/"
        },
        "outputId": "4142f156-d05c-4f41-92b9-2f3ae4561940"
      },
      "source": [
        "# Now let's test your model in the test data to see how it works.\n",
        "test_loss, test_acc = model.evaluate(X_test,  Y_test)\n",
        "model.save('my_model.h5')"
      ],
      "execution_count": null,
      "outputs": [
        {
          "output_type": "stream",
          "name": "stdout",
          "text": [
            "4/4 [==============================] - 1s 26ms/step - loss: 0.7878 - accuracy: 0.8000\n"
          ]
        }
      ]
    },
    {
      "cell_type": "markdown",
      "metadata": {
        "id": "4p0jkE1rzJGv"
      },
      "source": [
        "**Expected output**\n",
        "accuracy shall be higher than 0.75.\n",
        "\n",
        "Congratulations! You have finised the assignment and built a model that recognizes SIGN language with almost 75% accuracy on the test set. You probably want to save your hard work, the trained model, using `model.save('my_model.h5')`. You can later load the saved model by the command `model = load_model('my_model.h5')`\n",
        "\n",
        "Once again, here's a thumbs up for your work! "
      ]
    },
    {
      "cell_type": "code",
      "metadata": {
        "tags": [],
        "id": "wzcz9l8szJGv",
        "colab": {
          "base_uri": "https://localhost:8080/",
          "height": 398
        },
        "outputId": "8e5c91f1-03f8-4f63-8348-44a424a634da"
      },
      "source": [
        "%pylab inline\n",
        "import matplotlib.image as mpimg\n",
        "img = mpimg.imread('images/thumbs_up.jpg')\n",
        "imgplot = plt.imshow(img)\n",
        "plt.show()"
      ],
      "execution_count": null,
      "outputs": [
        {
          "output_type": "stream",
          "name": "stdout",
          "text": [
            "Populating the interactive namespace from numpy and matplotlib\n"
          ]
        },
        {
          "output_type": "error",
          "ename": "FileNotFoundError",
          "evalue": "ignored",
          "traceback": [
            "\u001b[0;31m---------------------------------------------------------------------------\u001b[0m",
            "\u001b[0;31mFileNotFoundError\u001b[0m                         Traceback (most recent call last)",
            "\u001b[0;32m<ipython-input-28-72792efc3349>\u001b[0m in \u001b[0;36m<module>\u001b[0;34m()\u001b[0m\n\u001b[1;32m      1\u001b[0m \u001b[0mget_ipython\u001b[0m\u001b[0;34m(\u001b[0m\u001b[0;34m)\u001b[0m\u001b[0;34m.\u001b[0m\u001b[0mmagic\u001b[0m\u001b[0;34m(\u001b[0m\u001b[0;34m'pylab inline'\u001b[0m\u001b[0;34m)\u001b[0m\u001b[0;34m\u001b[0m\u001b[0;34m\u001b[0m\u001b[0m\n\u001b[1;32m      2\u001b[0m \u001b[0;32mimport\u001b[0m \u001b[0mmatplotlib\u001b[0m\u001b[0;34m.\u001b[0m\u001b[0mimage\u001b[0m \u001b[0;32mas\u001b[0m \u001b[0mmpimg\u001b[0m\u001b[0;34m\u001b[0m\u001b[0;34m\u001b[0m\u001b[0m\n\u001b[0;32m----> 3\u001b[0;31m \u001b[0mimg\u001b[0m \u001b[0;34m=\u001b[0m \u001b[0mmpimg\u001b[0m\u001b[0;34m.\u001b[0m\u001b[0mimread\u001b[0m\u001b[0;34m(\u001b[0m\u001b[0;34m'images/thumbs_up.jpg'\u001b[0m\u001b[0;34m)\u001b[0m\u001b[0;34m\u001b[0m\u001b[0;34m\u001b[0m\u001b[0m\n\u001b[0m\u001b[1;32m      4\u001b[0m \u001b[0mimgplot\u001b[0m \u001b[0;34m=\u001b[0m \u001b[0mplt\u001b[0m\u001b[0;34m.\u001b[0m\u001b[0mimshow\u001b[0m\u001b[0;34m(\u001b[0m\u001b[0mimg\u001b[0m\u001b[0;34m)\u001b[0m\u001b[0;34m\u001b[0m\u001b[0;34m\u001b[0m\u001b[0m\n\u001b[1;32m      5\u001b[0m \u001b[0mplt\u001b[0m\u001b[0;34m.\u001b[0m\u001b[0mshow\u001b[0m\u001b[0;34m(\u001b[0m\u001b[0;34m)\u001b[0m\u001b[0;34m\u001b[0m\u001b[0;34m\u001b[0m\u001b[0m\n",
            "\u001b[0;32m/usr/local/lib/python3.7/dist-packages/matplotlib/image.py\u001b[0m in \u001b[0;36mimread\u001b[0;34m(fname, format)\u001b[0m\n\u001b[1;32m   1462\u001b[0m             raise ValueError('Only know how to handle PNG; with Pillow '\n\u001b[1;32m   1463\u001b[0m                              'installed, Matplotlib can handle more images')\n\u001b[0;32m-> 1464\u001b[0;31m         \u001b[0;32mwith\u001b[0m \u001b[0mImage\u001b[0m\u001b[0;34m.\u001b[0m\u001b[0mopen\u001b[0m\u001b[0;34m(\u001b[0m\u001b[0mfname\u001b[0m\u001b[0;34m)\u001b[0m \u001b[0;32mas\u001b[0m \u001b[0mimage\u001b[0m\u001b[0;34m:\u001b[0m\u001b[0;34m\u001b[0m\u001b[0;34m\u001b[0m\u001b[0m\n\u001b[0m\u001b[1;32m   1465\u001b[0m             \u001b[0;32mreturn\u001b[0m \u001b[0mpil_to_array\u001b[0m\u001b[0;34m(\u001b[0m\u001b[0mimage\u001b[0m\u001b[0;34m)\u001b[0m\u001b[0;34m\u001b[0m\u001b[0;34m\u001b[0m\u001b[0m\n\u001b[1;32m   1466\u001b[0m     \u001b[0;32mfrom\u001b[0m \u001b[0mmatplotlib\u001b[0m \u001b[0;32mimport\u001b[0m \u001b[0m_png\u001b[0m\u001b[0;34m\u001b[0m\u001b[0;34m\u001b[0m\u001b[0m\n",
            "\u001b[0;32m/usr/local/lib/python3.7/dist-packages/PIL/Image.py\u001b[0m in \u001b[0;36mopen\u001b[0;34m(fp, mode)\u001b[0m\n\u001b[1;32m   2841\u001b[0m \u001b[0;34m\u001b[0m\u001b[0m\n\u001b[1;32m   2842\u001b[0m     \u001b[0;32mif\u001b[0m \u001b[0mfilename\u001b[0m\u001b[0;34m:\u001b[0m\u001b[0;34m\u001b[0m\u001b[0;34m\u001b[0m\u001b[0m\n\u001b[0;32m-> 2843\u001b[0;31m         \u001b[0mfp\u001b[0m \u001b[0;34m=\u001b[0m \u001b[0mbuiltins\u001b[0m\u001b[0;34m.\u001b[0m\u001b[0mopen\u001b[0m\u001b[0;34m(\u001b[0m\u001b[0mfilename\u001b[0m\u001b[0;34m,\u001b[0m \u001b[0;34m\"rb\"\u001b[0m\u001b[0;34m)\u001b[0m\u001b[0;34m\u001b[0m\u001b[0;34m\u001b[0m\u001b[0m\n\u001b[0m\u001b[1;32m   2844\u001b[0m         \u001b[0mexclusive_fp\u001b[0m \u001b[0;34m=\u001b[0m \u001b[0;32mTrue\u001b[0m\u001b[0;34m\u001b[0m\u001b[0;34m\u001b[0m\u001b[0m\n\u001b[1;32m   2845\u001b[0m \u001b[0;34m\u001b[0m\u001b[0m\n",
            "\u001b[0;31mFileNotFoundError\u001b[0m: [Errno 2] No such file or directory: 'images/thumbs_up.jpg'"
          ]
        }
      ]
    },
    {
      "cell_type": "markdown",
      "metadata": {
        "id": "rlkKE87azJGv"
      },
      "source": [
        "**Challenge**: Can you try to adjust the hyper-parameters (learning_rate, epochs, batch_size, kernel_regularizer) to improve the accuracy to 85%? \n",
        "\n",
        "If you wish, feel free to play around with this dataset further. You can actually improve its accuracy by spending more time tuning the hyperparameters, or using regularization (as this model clearly has a high variance). It's quite easy to specify the regularization in the model. Simply, add option 'kernel_regularizer=tf.keras.regularizers.L2(0.001),' to the Conv and Dense layer"
      ]
    }
  ]
}